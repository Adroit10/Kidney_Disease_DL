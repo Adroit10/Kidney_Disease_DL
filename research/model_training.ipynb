{
 "cells": [
  {
   "cell_type": "code",
   "execution_count": 3,
   "id": "f0a9147d",
   "metadata": {},
   "outputs": [
    {
     "data": {
      "text/plain": [
       "'f:\\\\DATA SCIENCE\\\\Projects\\\\Kidney_Disease DL\\\\research'"
      ]
     },
     "execution_count": 3,
     "metadata": {},
     "output_type": "execute_result"
    }
   ],
   "source": [
    "%pwd"
   ]
  },
  {
   "cell_type": "code",
   "execution_count": 4,
   "id": "a436a63b",
   "metadata": {},
   "outputs": [],
   "source": [
    "import os\n",
    "os.chdir('../')"
   ]
  },
  {
   "cell_type": "code",
   "execution_count": 5,
   "id": "e60e3c60",
   "metadata": {},
   "outputs": [
    {
     "data": {
      "text/plain": [
       "'f:\\\\DATA SCIENCE\\\\Projects\\\\Kidney_Disease DL'"
      ]
     },
     "execution_count": 5,
     "metadata": {},
     "output_type": "execute_result"
    }
   ],
   "source": [
    "%pwd"
   ]
  },
  {
   "cell_type": "code",
   "execution_count": 6,
   "id": "ecae75ef",
   "metadata": {},
   "outputs": [],
   "source": [
    "from dataclasses import dataclass\n",
    "from pathlib import Path\n",
    "\n",
    "@dataclass(frozen=True)\n",
    "class TrainingConfig:\n",
    "    root_dir:Path\n",
    "    trained_model_path:Path\n",
    "    updated_base_model_path:Path\n",
    "    training_data:Path\n",
    "    params_epochs:int\n",
    "    params_batch_size:int\n",
    "    params_is_augmentation:bool\n",
    "    params_image_size:list"
   ]
  },
  {
   "cell_type": "code",
   "execution_count": 7,
   "id": "956183f9",
   "metadata": {},
   "outputs": [
    {
     "name": "stdout",
     "output_type": "stream",
     "text": [
      "[2025-05-19 20:41:32,608: WARNING: module_wrapper: From f:\\DATA SCIENCE\\Projects\\Kidney_Disease DL\\venv\\lib\\site-packages\\keras\\src\\losses.py:2976: The name tf.losses.sparse_softmax_cross_entropy is deprecated. Please use tf.compat.v1.losses.sparse_softmax_cross_entropy instead.\n",
      "]\n"
     ]
    }
   ],
   "source": [
    "from src.DiseaseClassifier.constants import *\n",
    "from src.DiseaseClassifier.utils.common import read_yaml,create_directories\n",
    "import tensorflow as tf"
   ]
  },
  {
   "cell_type": "code",
   "execution_count": 12,
   "id": "46ffc82d",
   "metadata": {},
   "outputs": [],
   "source": [
    "class ConfigurationManager:\n",
    "    def __init__(self,\n",
    "                 config_filepath = CONFIG_FILE_PATH,\n",
    "                 params_file_path=PARAMS_FILE_PATH):\n",
    "        self.config = read_yaml(config_filepath)\n",
    "        self.params = read_yaml(params_file_path)\n",
    "        create_directories([self.config.artifacts_root])\n",
    "\n",
    "\n",
    "    def get_training_config(self) -> TrainingConfig:\n",
    "        training = self.config.training\n",
    "        prepare_base_model = self.config.prepare_base_model\n",
    "        params = self.params\n",
    "        training_data = os.path.join(self.config.data_ingestion.unzip_dir,\"kidney ct-scan images\")\n",
    "        create_directories([\n",
    "            Path(training.root_dir)\n",
    "        ])\n",
    "\n",
    "        training_config = TrainingConfig(\n",
    "            root_dir = Path(training.root_dir),\n",
    "            trained_model_path=Path(training.trained_model_path),\n",
    "            updated_base_model_path=Path(prepare_base_model.updated_base_model_path),\n",
    "            training_data = Path(training_data),\n",
    "            params_epochs = params.EPOCHS,\n",
    "            params_batch_size=params.BATCH_SIZE,\n",
    "            params_is_augmentation=params.AUGMENTATION,\n",
    "            params_image_size=params.IMAGE_SIZE\n",
    "        )\n",
    "        return training_config "
   ]
  },
  {
   "cell_type": "code",
   "execution_count": 13,
   "id": "cfb60a18",
   "metadata": {},
   "outputs": [],
   "source": [
    "import os\n",
    "import urllib.request as request\n",
    "from zipfile import ZipFile\n",
    "import tensorflow as tf\n",
    "import time"
   ]
  },
  {
   "cell_type": "code",
   "execution_count": 16,
   "id": "d1f5912b",
   "metadata": {},
   "outputs": [],
   "source": [
    "class Training:\n",
    "    def __init__(self,config:TrainingConfig):\n",
    "        self.config = config\n",
    "\n",
    "    def get_base_model(self):\n",
    "        self.model = tf.keras.models.load_model(self.config.updated_base_model_path)\n",
    "\n",
    "    def train_valid_generator(self):\n",
    "        datagenerator_kwargs = dict(\n",
    "            rescale= 1./255,\n",
    "            validation_split = 0.20\n",
    "        )\n",
    "\n",
    "        dataflow_kwargs = dict(\n",
    "            target_size = self.config.params_image_size[:-1],\n",
    "            batch_size = self.config.params_batch_size,\n",
    "            interpolation = 'bilinear'\n",
    "        )\n",
    "\n",
    "        valid_datagenerator = tf.keras.preprocessing.image.ImageDataGenerator(**datagenerator_kwargs)\n",
    "        self.valid_generator = valid_datagenerator.flow_from_directory(\n",
    "            directory = self.config.training_data,\n",
    "            subset = \"validation\",\n",
    "            shuffle = False,\n",
    "            **dataflow_kwargs\n",
    "        )\n",
    "\n",
    "        if self.config.params_is_augmentation:\n",
    "            train_datagenerator = tf.keras.preprocessing.image.ImageDataGenerator(\n",
    "                rotation_range = 40,\n",
    "                horizontal_flip=True,\n",
    "                width_shift_range = 0.2,\n",
    "                height_shift_range=0.2,\n",
    "                shear_range=0.2,\n",
    "                zoom_range=0.2,\n",
    "                **datagenerator_kwargs\n",
    "            )\n",
    "        else:\n",
    "            train_datagenerator = valid_datagenerator\n",
    "\n",
    "        self.train_generator = train_datagenerator.flow_from_directory(\n",
    "            directory=self.config.training_data,\n",
    "            subset=\"training\",\n",
    "            shuffle=True,\n",
    "            **dataflow_kwargs\n",
    "        )\n",
    "\n",
    "\n",
    "    @staticmethod\n",
    "    def save_model(path:Path,model:tf.keras.Model):\n",
    "        model.save(path)\n",
    "\n",
    "\n",
    "    def train(self):\n",
    "        self.steps_per_epoch = self.train_generator.samples//self.train_generator.batch_size\n",
    "        self.validation_steps = self.valid_generator.samples//self.valid_generator.batch_size\n",
    "\n",
    "        self.model.fit(\n",
    "            self.train_generator,\n",
    "            epochs=self.config.params_epochs,\n",
    "            steps_per_epoch=self.steps_per_epoch,\n",
    "            validation_steps=self.validation_steps,\n",
    "            validation_data=self.valid_generator\n",
    "        )\n",
    "\n",
    "        self.save_model(\n",
    "            path=self.config.trained_model_path,\n",
    "            model=self.model\n",
    "        )\n"
   ]
  },
  {
   "cell_type": "code",
   "execution_count": 17,
   "id": "fe330107",
   "metadata": {},
   "outputs": [
    {
     "name": "stdout",
     "output_type": "stream",
     "text": [
      "[2025-05-20 20:38:10,839: INFO: common: yaml file: config\\config.yaml loaded successfully]\n",
      "[2025-05-20 20:38:10,841: INFO: common: yaml file: params.yaml loaded successfully]\n",
      "[2025-05-20 20:38:10,842: INFO: common: created directory at: artifacts]\n",
      "[2025-05-20 20:38:10,843: INFO: common: created directory at: artifacts\\training]\n",
      "Found 1471 images belonging to 2 classes.\n",
      "Found 5889 images belonging to 2 classes.\n",
      "Epoch 1/10\n",
      "[2025-05-20 20:38:12,802: WARNING: module_wrapper: From f:\\DATA SCIENCE\\Projects\\Kidney_Disease DL\\venv\\lib\\site-packages\\keras\\src\\utils\\tf_utils.py:492: The name tf.ragged.RaggedTensorValue is deprecated. Please use tf.compat.v1.ragged.RaggedTensorValue instead.\n",
      "]\n",
      "196/196 [==============================] - 528s 3s/step - loss: 11.4097 - accuracy: 0.6003 - val_loss: 5.4967 - val_accuracy: 0.6905\n",
      "Epoch 2/10\n",
      "196/196 [==============================] - 2160s 11s/step - loss: 8.2408 - accuracy: 0.6433 - val_loss: 23.4458 - val_accuracy: 0.6905\n",
      "Epoch 3/10\n",
      "196/196 [==============================] - 531s 3s/step - loss: 6.3715 - accuracy: 0.6805 - val_loss: 2.0586 - val_accuracy: 0.7633\n",
      "Epoch 4/10\n",
      "196/196 [==============================] - 925s 5s/step - loss: 4.6751 - accuracy: 0.7256 - val_loss: 4.1636 - val_accuracy: 0.7156\n",
      "Epoch 5/10\n",
      "196/196 [==============================] - 533s 3s/step - loss: 3.7890 - accuracy: 0.7570 - val_loss: 2.0721 - val_accuracy: 0.7844\n",
      "Epoch 6/10\n",
      "196/196 [==============================] - 518s 3s/step - loss: 3.9777 - accuracy: 0.7483 - val_loss: 0.9863 - val_accuracy: 0.8571\n",
      "Epoch 7/10\n",
      "196/196 [==============================] - 537s 3s/step - loss: 3.2517 - accuracy: 0.7715 - val_loss: 6.4730 - val_accuracy: 0.6966\n",
      "Epoch 8/10\n",
      "196/196 [==============================] - 548s 3s/step - loss: 3.1692 - accuracy: 0.7771 - val_loss: 3.1632 - val_accuracy: 0.7347\n",
      "Epoch 9/10\n",
      "196/196 [==============================] - 534s 3s/step - loss: 3.1236 - accuracy: 0.7769 - val_loss: 3.9441 - val_accuracy: 0.7286\n",
      "Epoch 10/10\n",
      "196/196 [==============================] - 532s 3s/step - loss: 2.7042 - accuracy: 0.7931 - val_loss: 2.4568 - val_accuracy: 0.6823\n"
     ]
    },
    {
     "name": "stderr",
     "output_type": "stream",
     "text": [
      "f:\\DATA SCIENCE\\Projects\\Kidney_Disease DL\\venv\\lib\\site-packages\\keras\\src\\engine\\training.py:3103: UserWarning: You are saving your model as an HDF5 file via `model.save()`. This file format is considered legacy. We recommend using instead the native Keras format, e.g. `model.save('my_model.keras')`.\n",
      "  saving_api.save_model(\n"
     ]
    }
   ],
   "source": [
    "try:\n",
    "    config = ConfigurationManager()\n",
    "    training_config = config.get_training_config()\n",
    "    training = Training(config=training_config)\n",
    "    training.get_base_model()\n",
    "    training.train_valid_generator()\n",
    "    training.train()\n",
    "except Exception as e:\n",
    "    raise e"
   ]
  },
  {
   "cell_type": "code",
   "execution_count": null,
   "id": "df269050",
   "metadata": {},
   "outputs": [],
   "source": []
  }
 ],
 "metadata": {
  "kernelspec": {
   "display_name": "Python 3",
   "language": "python",
   "name": "python3"
  },
  "language_info": {
   "codemirror_mode": {
    "name": "ipython",
    "version": 3
   },
   "file_extension": ".py",
   "mimetype": "text/x-python",
   "name": "python",
   "nbconvert_exporter": "python",
   "pygments_lexer": "ipython3",
   "version": "3.9.0"
  }
 },
 "nbformat": 4,
 "nbformat_minor": 5
}
